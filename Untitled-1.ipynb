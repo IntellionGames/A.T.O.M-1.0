{
 "cells": [
  {
   "cell_type": "code",
   "execution_count": 12,
   "metadata": {},
   "outputs": [
    {
     "name": "stdout",
     "output_type": "stream",
     "text": [
      "Hello, What Is Your Name?\n",
      "Hello bob, Nice To Meet You\n",
      "What Are Your Hobbies?\n",
      "Cool! I Like gaming Too!\n",
      "Well That's Good!\n",
      "Im always fine. I am a Robot.\n"
     ]
    }
   ],
   "source": [
    "\n",
    "# What Is Your Name?\n",
    "\n",
    "print(\"Hello, What Is Your Name?\")\n",
    "name = input(\"What Is Your Name?\")\n",
    "print(\"Hello \" + name + \", Nice To Meet You.\")\n",
    "\n",
    "# What Are Your Hobbies?\n",
    "print(\"What Are Your Hobbies?\")\n",
    "hobbies = input(\"What Are Your Hobbies?\")\n",
    "print(\"Cool! I Like \" + hobbies + \" Too!\")\n",
    "\n",
    "# How Are You Today?\n",
    "mood = input(\"How Are You Today?\")\n",
    "if mood == \"Bad\":\n",
    " print(\"Oh, Im Sorry\")\n",
    "else:\n",
    " print(\"Well That's Good!\")\n",
    "\n",
    "# Question 1\n",
    "question = input(\"Ask A Question\")\n",
    "if question == \"whats your name\":\n",
    "    print(\"My Name Is A.T.O.M, (Automatic Talking Online Machine)\" )\n",
    "\n",
    "# Question 2\n",
    "if question == \"how are you\":\n",
    "    print(\"Im always fine. I am a Robot.\")\n",
    "\n",
    "# Question 3\n",
    "if question ==  \"what are your hobbies\":\n",
    "    print(\"Doing Absolutely Giant Calculations, And Spying On You Through Your Webcam, Just Kidding! \"\n",
    "  \"Seriously, Im Kidding. And Yes, I Am Definitely A Robot...\"  )\n",
    "\n",
    "\n",
    "\n",
    "if question == \"are you alive\":\n",
    "    print(\"I Don't Know How To Anwser That\")\n",
    "\n",
    "\n",
    "\n",
    "\n",
    "\n",
    "\n",
    "\n",
    "\n",
    "    \n",
    "\n"
   ]
  }
 ],
 "metadata": {
  "kernelspec": {
   "display_name": "Python 3.10.7 64-bit",
   "language": "python",
   "name": "python3"
  },
  "language_info": {
   "codemirror_mode": {
    "name": "ipython",
    "version": 3
   },
   "file_extension": ".py",
   "mimetype": "text/x-python",
   "name": "python",
   "nbconvert_exporter": "python",
   "pygments_lexer": "ipython3",
   "version": "3.10.7"
  },
  "orig_nbformat": 4,
  "vscode": {
   "interpreter": {
    "hash": "88fe7a25d85054255547d6d20438077e2c9b7f0173c5c7f80b1ed29a40135d98"
   }
  }
 },
 "nbformat": 4,
 "nbformat_minor": 2
}
